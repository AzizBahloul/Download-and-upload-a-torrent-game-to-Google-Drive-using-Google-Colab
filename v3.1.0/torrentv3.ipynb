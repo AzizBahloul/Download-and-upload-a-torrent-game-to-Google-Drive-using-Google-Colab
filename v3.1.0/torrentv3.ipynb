{
  "cells": [
    {
      "cell_type": "markdown",
      "id": "84bc710e-dd68-4a91-b451-5d8ae911018c",
      "metadata": {
        "id": "84bc710e-dd68-4a91-b451-5d8ae911018c"
      },
      "source": [
        "to connect your drive"
      ]
    },
    {
      "cell_type": "code",
      "execution_count": 1,
      "id": "9cc286a2-5765-45af-859c-722b78b66eef",
      "metadata": {
        "colab": {
          "base_uri": "https://localhost:8080/"
        },
        "id": "9cc286a2-5765-45af-859c-722b78b66eef",
        "outputId": "cc741ace-aba4-4d27-8698-bda65842e594"
      },
      "outputs": [
        {
          "output_type": "stream",
          "name": "stdout",
          "text": [
            "Drive already mounted at /content/drive; to attempt to forcibly remount, call drive.mount(\"/content/drive\", force_remount=True).\n"
          ]
        }
      ],
      "source": [
        "from google.colab import drive\n",
        "\n",
        "# Mount your Google Drive\n",
        "drive.mount('/content/drive')"
      ]
    },
    {
      "cell_type": "markdown",
      "id": "f81202ea-5b76-4233-891e-504582ded37d",
      "metadata": {
        "id": "f81202ea-5b76-4233-891e-504582ded37d"
      },
      "source": [
        "install the requirements packages"
      ]
    },
    {
      "cell_type": "code",
      "execution_count": 2,
      "id": "9fc5b731-b23e-404d-9e1f-5463eb31f80b",
      "metadata": {
        "colab": {
          "base_uri": "https://localhost:8080/"
        },
        "id": "9fc5b731-b23e-404d-9e1f-5463eb31f80b",
        "outputId": "84cd52be-098f-458e-876b-8bc6b4def766"
      },
      "outputs": [
        {
          "output_type": "stream",
          "name": "stdout",
          "text": [
            "Requirement already satisfied: libtorrent in /usr/local/lib/python3.10/dist-packages (2.0.9)\n",
            "Requirement already satisfied: torf in /usr/local/lib/python3.10/dist-packages (4.2.7)\n",
            "Requirement already satisfied: flatbencode==0.2.* in /usr/local/lib/python3.10/dist-packages (from torf) (0.2.1)\n",
            "ERROR: unknown command \"wget\"\n"
          ]
        }
      ],
      "source": [
        "!pip install libtorrent\n",
        "!pip install torf\n",
        "!pip wget"
      ]
    },
    {
      "cell_type": "markdown",
      "id": "e7e37e6f-432f-4d03-8caf-d52a0a23d86c",
      "metadata": {
        "id": "e7e37e6f-432f-4d03-8caf-d52a0a23d86c"
      },
      "source": [
        "you need to copy the magnet file link from the website"
      ]
    },
    {
      "cell_type": "code",
      "execution_count": 3,
      "id": "15bccb2e-2f5d-45cb-ac6a-0fce71f6f2f5",
      "metadata": {
        "id": "15bccb2e-2f5d-45cb-ac6a-0fce71f6f2f5",
        "colab": {
          "base_uri": "https://localhost:8080/"
        },
        "outputId": "d2cfac49-e78e-4c39-ede2-6f684afd1014"
      },
      "outputs": [
        {
          "output_type": "stream",
          "name": "stdout",
          "text": [
            "Input Torrent file link or Magnet link and Press Enter: magnet:?xt=urn:btih:B66CFCBE917D4CB1167334AFB5D40E9DC4C8EEC2&dn=Monster+Train+%28Build+12661+%2B+The+Last+Divinity+DLC%2C+MULTi6%29+%5BFitGirl+Repack%5D&tr=udp%3A%2F%2F46.148.18.250%3A2710&tr=udp%3A%2F%2Fopentor.org%3A2710&tr=udp%3A%2F%2Ftracker.coppersurfer.tk%3A6969%2Fannounce&tr=udp%3A%2F%2Ftracker.opentrackr.org%3A1337%2Fannounce&tr=http%3A%2F%2Ftracker.dler.org%3A6969%2Fannounce&tr=udp%3A%2F%2Ftracker.leechers-paradise.org%3A6969%2Fannounce&tr=udp%3A%2F%2F9.rarbg.me%3A2730%2Fannounce&tr=udp%3A%2F%2F9.rarbg.to%3A2770%2Fannounce&tr=udp%3A%2F%2Ftracker.pirateparty.gr%3A6969%2Fannounce&tr=http%3A%2F%2Fretracker.local%2Fannounce&tr=http%3A%2F%2Fretracker.ip.ncnet.ru%2Fannounce&tr=udp%3A%2F%2Fexodus.desync.com%3A6969%2Fannounce&tr=udp%3A%2F%2Fipv4.tracker.harry.lu%3A80%2Fannounce&tr=udp%3A%2F%2Fopen.stealth.si%3A80%2Fannounce&tr=udp%3A%2F%2Ftracker.zer0day.to%3A1337%2Fannounce&tr=udp%3A%2F%2Ftracker.leechers-paradise.org%3A6969%2Fannounce&tr=udp%3A%2F%2Fcoppersurfer.tk%3A6969%2Fannounce\n",
            "magnet:?xt=urn:btih:B66CFCBE917D4CB1167334AFB5D40E9DC4C8EEC2&dn=Monster+Train+%28Build+12661+%2B+The+Last+Divinity+DLC%2C+MULTi6%29+%5BFitGirl+Repack%5D&tr=udp%3A%2F%2F46.148.18.250%3A2710&tr=udp%3A%2F%2Fopentor.org%3A2710&tr=udp%3A%2F%2Ftracker.coppersurfer.tk%3A6969%2Fannounce&tr=udp%3A%2F%2Ftracker.opentrackr.org%3A1337%2Fannounce&tr=http%3A%2F%2Ftracker.dler.org%3A6969%2Fannounce&tr=udp%3A%2F%2Ftracker.leechers-paradise.org%3A6969%2Fannounce&tr=udp%3A%2F%2F9.rarbg.me%3A2730%2Fannounce&tr=udp%3A%2F%2F9.rarbg.to%3A2770%2Fannounce&tr=udp%3A%2F%2Ftracker.pirateparty.gr%3A6969%2Fannounce&tr=http%3A%2F%2Fretracker.local%2Fannounce&tr=http%3A%2F%2Fretracker.ip.ncnet.ru%2Fannounce&tr=udp%3A%2F%2Fexodus.desync.com%3A6969%2Fannounce&tr=udp%3A%2F%2Fipv4.tracker.harry.lu%3A80%2Fannounce&tr=udp%3A%2F%2Fopen.stealth.si%3A80%2Fannounce&tr=udp%3A%2F%2Ftracker.zer0day.to%3A1337%2Fannounce&tr=udp%3A%2F%2Ftracker.leechers-paradise.org%3A6969%2Fannounce&tr=udp%3A%2F%2Fcoppersurfer.tk%3A6969%2Fannounce\n"
          ]
        }
      ],
      "source": [
        "import zipfile\n",
        "import os\n",
        "import libtorrent as lt\n",
        "import time\n",
        "import datetime\n",
        "import shutil\n",
        "\n",
        "# Initialize the session\n",
        "ses = lt.session()\n",
        "link = input(\"Input Torrent file link or Magnet link and Press Enter: \")\n",
        "\n",
        "if link.endswith('.torrent'):\n",
        "    import wget\n",
        "    from torf import Torrent\n",
        "\n",
        "    if os.path.exists('torrent.torrent'):\n",
        "        os.remove('torrent.torrent')\n",
        "\n",
        "    wget.download(link, 'torrent.torrent')\n",
        "    t = Torrent.read('torrent.torrent')\n",
        "    link = str(t.magnet(name=True, size=False, trackers=False, tracker=False))\n",
        "\n",
        "print(link)\n"
      ]
    },
    {
      "cell_type": "code",
      "source": [
        "# Adding the magnet URI and specifying download parameters\n",
        "params = {\n",
        "    'save_path': '/content/drive/MyDrive',  # This will be updated with the folder name\n",
        "    'storage_mode': lt.storage_mode_t.storage_mode_sparse,\n",
        "}\n",
        "handle = lt.add_magnet_uri(ses, link, params)\n",
        "\n",
        "# Change the 0 to a 1 to download sequentially\n",
        "handle.set_sequential_download(0)\n",
        "ses.start_dht()\n",
        "begin = time.time()\n",
        "\n",
        "print(datetime.datetime.now())\n",
        "print('Downloading Metadata...')\n",
        "\n",
        "while not handle.has_metadata():\n",
        "    time.sleep(1)\n",
        "\n",
        "# Got metadata, we can proceed with download\n",
        "print('Got Metadata, Starting Torrent Download...')\n",
        "print(\"Starting\", handle.name())\n",
        "\n",
        "# Create a folder named after the magnet link\n",
        "magnet_folder = os.path.join('/content/drive/MyDrive', handle.name())\n",
        "os.makedirs(magnet_folder, exist_ok=True)\n",
        "\n",
        "# Update the save_path parameter to point to the new folder\n",
        "params['save_path'] = magnet_folder\n",
        "handle = lt.add_magnet_uri(ses, link, params)\n",
        "\n",
        "while handle.status().state != lt.torrent_status.seeding:\n",
        "    s = handle.status()\n",
        "    state_str = ['queued', 'checking', 'downloading metadata',\n",
        "                 'downloading', 'finished', 'seeding', 'allocating']\n",
        "    print('%.2f%% complete (down: %.1f kb/s up: %.1f kB/s peers: %d) %s ' %\n",
        "          (s.progress * 100, s.download_rate / 1000, s.upload_rate / 1000,\n",
        "           s.num_peers, state_str[s.state]))\n",
        "    time.sleep(5)\n",
        "\n",
        "end = time.time()\n",
        "print(handle.name(), \"COMPLETE\")\n",
        "print(\"Elapsed Time: \", int((end - begin) // 60), \"min :\", int((end - begin) % 60), \"sec\")\n",
        "print(datetime.datetime.now())\n"
      ],
      "metadata": {
        "colab": {
          "base_uri": "https://localhost:8080/"
        },
        "id": "VjhCaZWtGg4c",
        "outputId": "53e8b528-145b-42f9-c775-e1f740622968"
      },
      "id": "VjhCaZWtGg4c",
      "execution_count": 4,
      "outputs": [
        {
          "output_type": "stream",
          "name": "stdout",
          "text": [
            "2024-07-14 12:10:41.737576\n",
            "Downloading Metadata...\n"
          ]
        },
        {
          "output_type": "stream",
          "name": "stderr",
          "text": [
            "<ipython-input-4-e7e6a04f38db>:6: DeprecationWarning: add_magnet_uri() is deprecated\n",
            "  handle = lt.add_magnet_uri(ses, link, params)\n",
            "<ipython-input-4-e7e6a04f38db>:9: DeprecationWarning: set_sequential_download() is deprecated\n",
            "  handle.set_sequential_download(0)\n",
            "<ipython-input-4-e7e6a04f38db>:10: DeprecationWarning: start_dht() is deprecated\n",
            "  ses.start_dht()\n",
            "<ipython-input-4-e7e6a04f38db>:16: DeprecationWarning: has_metadata() is deprecated\n",
            "  while not handle.has_metadata():\n"
          ]
        },
        {
          "output_type": "stream",
          "name": "stdout",
          "text": [
            "Got Metadata, Starting Torrent Download...\n",
            "Starting Monster Train [FitGirl Repack]\n",
            "0.26% complete (down: 254.8 kb/s up: 9.2 kB/s peers: 6) downloading \n"
          ]
        },
        {
          "output_type": "stream",
          "name": "stderr",
          "text": [
            "<ipython-input-4-e7e6a04f38db>:21: DeprecationWarning: name() is deprecated\n",
            "  print(\"Starting\", handle.name())\n",
            "<ipython-input-4-e7e6a04f38db>:24: DeprecationWarning: name() is deprecated\n",
            "  magnet_folder = os.path.join('/content/drive/MyDrive', handle.name())\n",
            "<ipython-input-4-e7e6a04f38db>:29: DeprecationWarning: add_magnet_uri() is deprecated\n",
            "  handle = lt.add_magnet_uri(ses, link, params)\n"
          ]
        },
        {
          "output_type": "stream",
          "name": "stdout",
          "text": [
            "5.51% complete (down: 3834.7 kb/s up: 136.6 kB/s peers: 8) downloading \n",
            "11.51% complete (down: 5532.6 kb/s up: 197.7 kB/s peers: 8) downloading \n",
            "14.36% complete (down: 3857.3 kb/s up: 144.5 kB/s peers: 8) downloading \n",
            "18.06% complete (down: 3924.1 kb/s up: 149.1 kB/s peers: 8) downloading \n",
            "21.68% complete (down: 3831.8 kb/s up: 144.8 kB/s peers: 8) downloading \n",
            "25.88% complete (down: 4309.6 kb/s up: 158.3 kB/s peers: 8) downloading \n",
            "30.09% complete (down: 4448.2 kb/s up: 162.8 kB/s peers: 8) downloading \n",
            "34.27% complete (down: 4466.9 kb/s up: 162.4 kB/s peers: 8) downloading \n",
            "39.23% complete (down: 4976.8 kb/s up: 181.8 kB/s peers: 8) downloading \n",
            "44.24% complete (down: 5283.0 kb/s up: 191.6 kB/s peers: 8) downloading \n",
            "48.75% complete (down: 5005.8 kb/s up: 183.1 kB/s peers: 8) downloading \n",
            "53.02% complete (down: 4721.0 kb/s up: 173.6 kB/s peers: 8) downloading \n",
            "57.41% complete (down: 4762.4 kb/s up: 172.6 kB/s peers: 9) downloading \n",
            "61.80% complete (down: 4678.7 kb/s up: 167.5 kB/s peers: 9) downloading \n",
            "65.66% complete (down: 4308.2 kb/s up: 149.7 kB/s peers: 9) downloading \n",
            "69.15% complete (down: 3918.6 kb/s up: 138.0 kB/s peers: 9) downloading \n",
            "72.64% complete (down: 3792.5 kb/s up: 131.8 kB/s peers: 9) downloading \n",
            "76.13% complete (down: 3766.6 kb/s up: 130.2 kB/s peers: 9) downloading \n",
            "79.60% complete (down: 3711.5 kb/s up: 128.5 kB/s peers: 9) downloading \n",
            "83.13% complete (down: 3779.0 kb/s up: 130.6 kB/s peers: 9) downloading \n",
            "86.63% complete (down: 3757.7 kb/s up: 131.2 kB/s peers: 9) downloading \n",
            "90.06% complete (down: 3631.9 kb/s up: 128.2 kB/s peers: 9) downloading \n",
            "94.18% complete (down: 4114.5 kb/s up: 144.8 kB/s peers: 9) downloading \n",
            "97.80% complete (down: 3963.7 kb/s up: 142.0 kB/s peers: 9) downloading \n",
            "Monster Train [FitGirl Repack] COMPLETE\n",
            "Elapsed Time:  2 min : 56 sec\n",
            "2024-07-14 12:13:37.938434\n"
          ]
        },
        {
          "output_type": "stream",
          "name": "stderr",
          "text": [
            "<ipython-input-4-e7e6a04f38db>:41: DeprecationWarning: name() is deprecated\n",
            "  print(handle.name(), \"COMPLETE\")\n"
          ]
        }
      ]
    },
    {
      "cell_type": "code",
      "source": [
        "# After download completes\n",
        "downloaded_folder = magnet_folder\n",
        "\n",
        "# Ensure the downloaded folder exists\n",
        "if os.path.exists(downloaded_folder):\n",
        "    timestamp = datetime.datetime.now().strftime(\"%Y%m%d%H%M%S\")\n",
        "    new_zip_file_name = f\"{handle.name()}_{timestamp}.zip\"\n",
        "    zip_file_path = os.path.join('/content/drive/Othercomputers/My Laptop/torrent', new_zip_file_name)\n",
        "\n",
        "    # Create a zip archive of the downloaded folder\n",
        "    shutil.make_archive(zip_file_path[:-4], 'zip', downloaded_folder)\n",
        "\n",
        "    print(f\"Zip file created at {zip_file_path}\")\n",
        "\n",
        "    # Delete the original downloaded folder\n",
        "    shutil.rmtree(downloaded_folder)\n",
        "    print(f\"Original downloaded folder '{downloaded_folder}' deleted.\")\n",
        "\n",
        "else:\n",
        "    print(f\"Downloaded folder '{downloaded_folder}' not found.\")\n"
      ],
      "metadata": {
        "colab": {
          "base_uri": "https://localhost:8080/"
        },
        "id": "VqLNNhnIGjIz",
        "outputId": "d6dfbcc2-5c9f-4eb0-b64d-3c8986e81983"
      },
      "id": "VqLNNhnIGjIz",
      "execution_count": 5,
      "outputs": [
        {
          "output_type": "stream",
          "name": "stderr",
          "text": [
            "<ipython-input-5-b0992f5a9582>:7: DeprecationWarning: name() is deprecated\n",
            "  new_zip_file_name = f\"{handle.name()}_{timestamp}.zip\"\n"
          ]
        },
        {
          "output_type": "stream",
          "name": "stdout",
          "text": [
            "Zip file created at /content/drive/Othercomputers/My Laptop/torrent/Monster Train [FitGirl Repack]_20240714121337.zip\n",
            "Original downloaded folder '/content/drive/MyDrive/Monster Train [FitGirl Repack]' deleted.\n"
          ]
        }
      ]
    }
  ],
  "metadata": {
    "kernelspec": {
      "display_name": "Python 3 (ipykernel)",
      "language": "python",
      "name": "python3"
    },
    "language_info": {
      "codemirror_mode": {
        "name": "ipython",
        "version": 3
      },
      "file_extension": ".py",
      "mimetype": "text/x-python",
      "name": "python",
      "nbconvert_exporter": "python",
      "pygments_lexer": "ipython3",
      "version": "3.11.6"
    },
    "colab": {
      "provenance": []
    }
  },
  "nbformat": 4,
  "nbformat_minor": 5
}