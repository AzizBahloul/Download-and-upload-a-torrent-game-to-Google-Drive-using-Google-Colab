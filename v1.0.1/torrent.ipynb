{
 "cells": [
  {
   "cell_type": "markdown",
   "id": "84bc710e-dd68-4a91-b451-5d8ae911018c",
   "metadata": {},
   "source": [
    "to connect your drive"
   ]
  },
  {
   "cell_type": "code",
   "execution_count": null,
   "id": "9cc286a2-5765-45af-859c-722b78b66eef",
   "metadata": {},
   "outputs": [],
   "source": [
    "from google.colab import drive\n",
    "\n",
    "# Mount your Google Drive\n",
    "drive.mount('/content/drive')"
   ]
  },
  {
   "cell_type": "markdown",
   "id": "f81202ea-5b76-4233-891e-504582ded37d",
   "metadata": {},
   "source": [
    "install the requirements packages "
   ]
  },
  {
   "cell_type": "code",
   "execution_count": null,
   "id": "9fc5b731-b23e-404d-9e1f-5463eb31f80b",
   "metadata": {},
   "outputs": [],
   "source": [
    "!pip install libtorrent\n",
    "!pip install torf \n",
    "!pip wget"
   ]
  },
  {
   "cell_type": "markdown",
   "id": "e7e37e6f-432f-4d03-8caf-d52a0a23d86c",
   "metadata": {},
   "source": [
    "you need to copy the magnet file link from the website "
   ]
  },
  {
   "cell_type": "code",
   "execution_count": null,
   "id": "15bccb2e-2f5d-45cb-ac6a-0fce71f6f2f5",
   "metadata": {},
   "outputs": [],
   "source": [
    "import zipfile\n",
    "import os\n",
    "import libtorrent as lt\n",
    "import time\n",
    "import datetime\n",
    "import shutil\n",
    "\n",
    "params = {\n",
    "    'save_path': '/content/drive/MyDrive',\n",
    "    'storage_mode': lt.storage_mode_t(2),\n",
    "}\n",
    "\n",
    "ses = lt.session()\n",
    "ses.listen_on(6881, 6891)\n",
    "link = input(\"Input Torrent file link or Magnet link and Press Enter: \")\n",
    "\n",
    "if link.endswith('.torrent'):\n",
    "    import wget\n",
    "    from torf import Torrent\n",
    "\n",
    "    if os.path.exists('torrent.torrent'):\n",
    "        os.remove('torrent.torrent')\n",
    "\n",
    "    wget.download(link, 'torrent.torrent')\n",
    "    t = Torrent.read('torrent.torrent')\n",
    "    link = str(t.magnet(name=True, size=False, trackers=False, tracker=False))\n",
    "\n",
    "\n",
    "print(link)\n",
    "handle = lt.add_magnet_uri(ses, link, params)\n",
    "# change the 0 to a 1 to download sequentially\n",
    "handle.set_sequential_download(0)\n",
    "ses.start_dht()\n",
    "begin = time.time()\n",
    "\n",
    "print(datetime.datetime.now())\n",
    "print('Downloading Metadata...')\n",
    "\n",
    "while not handle.has_metadata():\n",
    "    time.sleep(1)\n",
    "\n",
    "print('Got Metadata, Starting Torrent Download...')\n",
    "print(\"Starting\", handle.name())\n",
    "\n",
    "while handle.status().state != lt.torrent_status.seeding:\n",
    "    s = handle.status()\n",
    "    state_str = ['queued', 'checking', 'downloading metadata',\n",
    "                 'downloading', 'finished', 'seeding', 'allocating']\n",
    "    print('%.2f%% complete (down: %.1f kb/s up: %.1f kB/s peers: %d) %s ' %\n",
    "          (s.progress * 100, s.download_rate / 1000, s.upload_rate / 1000,\n",
    "           s.num_peers, state_str[s.state]))\n",
    "    time.sleep(5)\n",
    "\n",
    "end = time.time()\n",
    "print(handle.name(), \"COMPLETE\")\n",
    "print(\"Elapsed Time: \", int((end - begin) // 60), \"min :\", int((end - begin) % 60), \"sec\")\n",
    "print(datetime.datetime.now())"
   ]
  }
 ],
 "metadata": {
  "kernelspec": {
   "display_name": "Python 3 (ipykernel)",
   "language": "python",
   "name": "python3"
  },
  "language_info": {
   "codemirror_mode": {
    "name": "ipython",
    "version": 3
   },
   "file_extension": ".py",
   "mimetype": "text/x-python",
   "name": "python",
   "nbconvert_exporter": "python",
   "pygments_lexer": "ipython3",
   "version": "3.11.6"
  }
 },
 "nbformat": 4,
 "nbformat_minor": 5
}
